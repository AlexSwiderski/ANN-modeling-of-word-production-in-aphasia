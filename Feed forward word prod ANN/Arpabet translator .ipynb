{
 "cells": [
  {
   "cell_type": "code",
   "execution_count": null,
   "metadata": {},
   "outputs": [],
   "source": [
    "#output text translation of words to arpabet to text file.  \n",
    "textfile = open(\"a_file.txt\", \"w\")\n",
    "for element in yfound:\n",
    "    textfile.write(element + \"\\n\")\n",
    "textfile.close()"
   ]
  },
  {
   "cell_type": "code",
   "execution_count": null,
   "metadata": {},
   "outputs": [],
   "source": [
    "yfound3 = []\n",
    "for word in yfound:\n",
    "    try:\n",
    "        arp = arpabet[word]\n",
    "        yfound3.append(arp)\n",
    "    except:\n",
    "        pass\n",
    "    \n",
    "\n",
    "y3df = pd.DataFrame(yfound3)\n",
    "#y3df.columns = ['zero', 'one', 'two', 'three']\n",
    "#y3df.head()"
   ]
  },
  {
   "cell_type": "code",
   "execution_count": null,
   "metadata": {},
   "outputs": [],
   "source": [
    "arpabet = nltk.corpus.cmudict.dict()\n",
    "colname = ['word']\n",
    "yfound2 = pd.DataFrame(data = yfound,\n",
    "                     columns=colname)\n",
    "yfound2\n",
    "#for word in yfound:\n",
    "#    print(arpabet[word])"
   ]
  }
 ],
 "metadata": {
  "kernelspec": {
   "display_name": "Python 3",
   "language": "python",
   "name": "python3"
  },
  "language_info": {
   "codemirror_mode": {
    "name": "ipython",
    "version": 3
   },
   "file_extension": ".py",
   "mimetype": "text/x-python",
   "name": "python",
   "nbconvert_exporter": "python",
   "pygments_lexer": "ipython3",
   "version": "3.8.5"
  }
 },
 "nbformat": 4,
 "nbformat_minor": 4
}
