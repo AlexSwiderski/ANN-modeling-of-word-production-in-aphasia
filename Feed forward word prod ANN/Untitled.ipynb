{
 "cells": [
  {
   "cell_type": "markdown",
   "metadata": {},
   "source": [
    "###Introduction\n",
    "Anomia, impairment of the ability to access and retrieve words, is the hallmark deficit of people with aphasia (Goodglass & Wingfield, 1997). Prevailing cognitive models support the assumption that word retrieval involves semantic, lexical, and phonological processing (Dell, Schwartz, Martin, Saffran, & Gagnon, 1997; Foygel & Dell, 2000; Walker & Hickok, 2016). Confrontation picture naming tests (e.g., Druks & Masterson, 2000; German, 1990; Kaplan, Goodlgass, & Weintraub, 2001) are typically administered to assess anomia severity, build patients’ profiles, and quantify change after treatment. The Philadelphia Naming Test (PNT) (Roach, Schwartz, Martin, Grewal, & Brecher, 1996) is a confrontation naming test that was developed in tandem with a series of computational models of word retrieval in persons with aphasia (Dell & O’Seaghdha, 1992; Dell et al., 1997; Foygel & Dell, 2000). It is made up of diverse stimuli varying in length, age of acquisition, and lexical frequency (Francis & Kucera, 1982), it has a well-defined scoring system for classifying anomic errors (Dell et al., 1997), and its total score correlates highly with aphasia severity (Walker & Schwartz, 2012). "
   ]
  },
  {
   "cell_type": "raw",
   "metadata": {},
   "source": [
    "###Introduction \n",
    "Anomia, impairment of the ability to access and retrieve words, is the hallmark deficit of people with aphasia (Goodglass & Wingfield, 1997). Prevailing cognitive models support the assumption that word retrieval involves semantic, lexical, and phonological processing (Dell, Schwartz, Martin, Saffran, & Gagnon, 1997; Foygel & Dell, 2000; Walker & Hickok, 2016). Confrontation picture naming tests (e.g., Druks & Masterson, 2000; German, 1990; Kaplan, Goodlgass, & Weintraub, 2001) are typically administered to assess anomia severity, build patients’ profiles, and quantify change after treatment. The Philadelphia Naming Test (PNT) (Roach, Schwartz, Martin, Grewal, & Brecher, 1996) is a confrontation naming test that was developed in tandem with a series of computational models of word retrieval in persons with aphasia (Dell & O’Seaghdha, 1992; Dell et al., 1997; Foygel & Dell, 2000). It is made up of diverse stimuli varying in length, age of acquisition, and lexical frequency (Francis & Kucera, 1982), it has a well-defined scoring system for classifying anomic errors (Dell et al., 1997), and its total score correlates highly with aphasia severity (Walker & Schwartz, 2012)."
   ]
  },
  {
   "cell_type": "code",
   "execution_count": null,
   "metadata": {},
   "outputs": [],
   "source": []
  }
 ],
 "metadata": {
  "kernelspec": {
   "display_name": "Python 3",
   "language": "python",
   "name": "python3"
  },
  "language_info": {
   "codemirror_mode": {
    "name": "ipython",
    "version": 3
   },
   "file_extension": ".py",
   "mimetype": "text/x-python",
   "name": "python",
   "nbconvert_exporter": "python",
   "pygments_lexer": "ipython3",
   "version": "3.8.5"
  }
 },
 "nbformat": 4,
 "nbformat_minor": 4
}
