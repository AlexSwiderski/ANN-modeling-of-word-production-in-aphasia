{
 "cells": [
  {
   "cell_type": "code",
   "execution_count": 4,
   "metadata": {},
   "outputs": [
    {
     "name": "stdout",
     "output_type": "stream",
     "text": [
      "y(0,0) 9.357622968839299e-14\n",
      "y(1,0) 4.5397868702434395e-05\n",
      "y(0,1) 4.5397868702434395e-05\n",
      "y(1,1) 0.9999546021312976\n"
     ]
    }
   ],
   "source": [
    "#create AND GATE ANN\n",
    "import numpy as np\n",
    "w1, w2, b = 20, 20, -30\n",
    "def sigmoid(x):\n",
    "    return 1 / (1 + np.exp(-x))\n",
    "def ANDGate(x1, x2):\n",
    "    return sigmoid(x1 * w1 + x2 * w2 + b)\n",
    "print('y(0,0)', ANDGate(0, 0))\n",
    "print('y(1,0)', ANDGate(1, 0))\n",
    "print('y(0,1)', ANDGate(0, 1))\n",
    "print('y(1,1)', ANDGate(1, 1))"
   ]
  },
  {
   "cell_type": "code",
   "execution_count": 5,
   "metadata": {},
   "outputs": [
    {
     "name": "stdout",
     "output_type": "stream",
     "text": [
      "y(0,0) 4.5397868702434395e-05\n",
      "y(1,0) 0.9999546021312976\n",
      "y(0,1) 0.9999546021312976\n",
      "y(1,1) 0.9999999999999065\n"
     ]
    }
   ],
   "source": [
    "#create OR gate\n",
    "import numpy as np\n",
    "w1, w2, b = 20, 20, -10\n",
    "def sigmoid(x):\n",
    "    return 1 / (1 + np.exp(-x))\n",
    "def ORGate(x1, x2):\n",
    "    return sigmoid(x1 * w1 + x2 * w2 + b)\n",
    "print('y(0,0)', ANDGate(0, 0))\n",
    "print('y(1,0)', ANDGate(1, 0))\n",
    "print('y(0,1)', ANDGate(0, 1))\n",
    "print('y(1,1)', ANDGate(1, 1))"
   ]
  },
  {
   "cell_type": "markdown",
   "metadata": {},
   "source": [
    "The backpropgation Algorithm: Theorems"
   ]
  },
  {
   "cell_type": "code",
   "execution_count": null,
   "metadata": {},
   "outputs": [],
   "source": []
  }
 ],
 "metadata": {
  "kernelspec": {
   "display_name": "Python 3",
   "language": "python",
   "name": "python3"
  },
  "language_info": {
   "codemirror_mode": {
    "name": "ipython",
    "version": 3
   },
   "file_extension": ".py",
   "mimetype": "text/x-python",
   "name": "python",
   "nbconvert_exporter": "python",
   "pygments_lexer": "ipython3",
   "version": "3.8.5"
  }
 },
 "nbformat": 4,
 "nbformat_minor": 4
}
